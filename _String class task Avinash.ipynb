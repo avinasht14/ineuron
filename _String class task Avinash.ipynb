{
 "cells": [
  {
   "cell_type": "markdown",
   "id": "2c021039",
   "metadata": {},
   "source": [
    "s = \"this is My First Python programming class and i am learNING python string and its function\"\n",
    "1 . Try to extract data from index one to index 300 with a jump of 3 \n",
    "2. Try to reverse a string without using reverse function \n",
    "3. Try to split a string after conversion of entire string in uppercase \n",
    "4. try to convert the whole string into lower case \n",
    "5 . Try to capitalize the whole string \n",
    "6 . Write a diference between isalnum() and isalpha()\n",
    "7. Try to give an example of expand tab\n",
    "8 . Give an example of strip , lstrip and rstrip \n",
    "9.  Replace a string charecter by another charector by taking your own example \n",
    "\"sudhanshu\"\n",
    "10 . Try  to give a defination of string center function with and exmple \n",
    "11 . Write your own definition of compiler and interpretor without copy paste form internet in your own language\n",
    "12 . Python is a interpreted of compiled language give a clear ans with your understanding \n",
    "13 . Try to write a usecase of python with your understanding .\n",
    "\n",
    "\n",
    "you have to send a jupyter notebook to shivan@ineuron.ai before next saturday class 21st of may ."
   ]
  },
  {
   "cell_type": "code",
   "execution_count": 1,
   "id": "9e506b08",
   "metadata": {},
   "outputs": [],
   "source": [
    "s = \"this is My First Python programming class and i am learNING python string and its function\""
   ]
  },
  {
   "cell_type": "code",
   "execution_count": 2,
   "id": "1c994248",
   "metadata": {},
   "outputs": [
    {
     "data": {
      "text/plain": [
       "'h   r tnrrmglsnimeNGyosi dtfco'"
      ]
     },
     "execution_count": 2,
     "metadata": {},
     "output_type": "execute_result"
    }
   ],
   "source": [
    "# 1. Try to extract data from index one to index 300 with a jump of 3 \n",
    "s[1:300:3]\n"
   ]
  },
  {
   "cell_type": "code",
   "execution_count": 3,
   "id": "9552bc9f",
   "metadata": {},
   "outputs": [
    {
     "data": {
      "text/plain": [
       "'noitcnuf sti dna gnirts nohtyp GNINrael ma i dna ssalc gnimmargorp nohtyP tsriF yM si siht'"
      ]
     },
     "execution_count": 3,
     "metadata": {},
     "output_type": "execute_result"
    }
   ],
   "source": [
    "# 2. Try to reverse a string without using reverse function \n",
    "s[::-1]"
   ]
  },
  {
   "cell_type": "code",
   "execution_count": 4,
   "id": "ca5af8df",
   "metadata": {},
   "outputs": [
    {
     "data": {
      "text/plain": [
       "['THIS',\n",
       " 'IS',\n",
       " 'MY',\n",
       " 'FIRST',\n",
       " 'PYTHON',\n",
       " 'PROGRAMMING',\n",
       " 'CLASS',\n",
       " 'AND',\n",
       " 'I',\n",
       " 'AM',\n",
       " 'LEARNING',\n",
       " 'PYTHON',\n",
       " 'STRING',\n",
       " 'AND',\n",
       " 'ITS',\n",
       " 'FUNCTION']"
      ]
     },
     "execution_count": 4,
     "metadata": {},
     "output_type": "execute_result"
    }
   ],
   "source": [
    "# 3. Try to split a string after conversion of entire string in uppercase \n",
    "s1 = s.upper()\n",
    "s1.split()"
   ]
  },
  {
   "cell_type": "code",
   "execution_count": 5,
   "id": "e19afccd",
   "metadata": {},
   "outputs": [
    {
     "data": {
      "text/plain": [
       "'THIS IS MY FIRST PYTHON PROGRAMMING CLASS AND I AM LEARNING PYTHON STRING AND ITS FUNCTION'"
      ]
     },
     "execution_count": 5,
     "metadata": {},
     "output_type": "execute_result"
    }
   ],
   "source": [
    "s1"
   ]
  },
  {
   "cell_type": "code",
   "execution_count": 6,
   "id": "ba8fe1df",
   "metadata": {},
   "outputs": [
    {
     "data": {
      "text/plain": [
       "'this is my first python programming class and i am learning python string and its function'"
      ]
     },
     "execution_count": 6,
     "metadata": {},
     "output_type": "execute_result"
    }
   ],
   "source": [
    "# 4. try to convert the whole string into lower case \n",
    "s.lower()"
   ]
  },
  {
   "cell_type": "code",
   "execution_count": 7,
   "id": "d726f129",
   "metadata": {},
   "outputs": [
    {
     "data": {
      "text/plain": [
       "'This is my first python programming class and i am learning python string and its function'"
      ]
     },
     "execution_count": 7,
     "metadata": {},
     "output_type": "execute_result"
    }
   ],
   "source": [
    "# 5 . Try to capitalize the whole string \n",
    "s.capitalize()"
   ]
  },
  {
   "cell_type": "markdown",
   "id": "91bc0988",
   "metadata": {},
   "source": [
    " 6 . Write a diference between isalnum() and isalpha() ----\n",
    " isalnum() checks if the string has either alphabets or numerical value whereas isalpha() checks if the string only has alphabets.\n",
    " both return a boolean value."
   ]
  },
  {
   "cell_type": "code",
   "execution_count": 8,
   "id": "f280503a",
   "metadata": {
    "scrolled": true
   },
   "outputs": [
    {
     "data": {
      "text/plain": [
       "'Avinash Reddy Talakola  India'"
      ]
     },
     "execution_count": 8,
     "metadata": {},
     "output_type": "execute_result"
    }
   ],
   "source": [
    "# 7. Try to give an example of expand tab\n",
    "# Return a copy where all tab characters are expanded using spaces means if there is a tab \\t inbetween the characters and if we \n",
    "# want to remove those tabs and add space instead then we can use tis function.If tabsize is not given, a tab size of 8 characters is assumed.\n",
    "mystring = \"Avinash\\tReddy\\tTalakola\\tIndia\"\n",
    "mystring.expandtabs(2)"
   ]
  },
  {
   "cell_type": "code",
   "execution_count": null,
   "id": "e24efd37",
   "metadata": {},
   "outputs": [],
   "source": [
    "# 8. Give an example of strip ,lstrip and rstrip "
   ]
  },
  {
   "cell_type": "code",
   "execution_count": 12,
   "id": "c8402841",
   "metadata": {},
   "outputs": [],
   "source": [
    "s2 = \"   there are whitespaces to my left and right   \""
   ]
  },
  {
   "cell_type": "code",
   "execution_count": 14,
   "id": "242d8c9d",
   "metadata": {},
   "outputs": [
    {
     "data": {
      "text/plain": [
       "'there are whitespaces to my left and right'"
      ]
     },
     "execution_count": 14,
     "metadata": {},
     "output_type": "execute_result"
    }
   ],
   "source": [
    "s2.strip()\n",
    "# Return a copy of the string with leading and trailing whitespace removed"
   ]
  },
  {
   "cell_type": "code",
   "execution_count": 16,
   "id": "12cf8d01",
   "metadata": {},
   "outputs": [
    {
     "data": {
      "text/plain": [
       "'there are whitespaces to my left and right   '"
      ]
     },
     "execution_count": 16,
     "metadata": {},
     "output_type": "execute_result"
    }
   ],
   "source": [
    "s2.lstrip()\n",
    "# Return a copy of the string with leading whitespace(on the left) removed."
   ]
  },
  {
   "cell_type": "code",
   "execution_count": 18,
   "id": "b597ae7c",
   "metadata": {},
   "outputs": [
    {
     "data": {
      "text/plain": [
       "'   there are whitespaces to my left and right'"
      ]
     },
     "execution_count": 18,
     "metadata": {},
     "output_type": "execute_result"
    }
   ],
   "source": [
    "s2.rstrip()\n",
    "# Return a copy of the string with trailing whitespace(on the right side) removed."
   ]
  },
  {
   "cell_type": "code",
   "execution_count": 22,
   "id": "2f9096a9",
   "metadata": {},
   "outputs": [
    {
     "data": {
      "text/plain": [
       "'My_own_string'"
      ]
     },
     "execution_count": 22,
     "metadata": {},
     "output_type": "execute_result"
    }
   ],
   "source": [
    "# 9. Replace a string charecter by another charector by taking your own example \n",
    "s3 = \"My-own-string\"\n",
    "s3.replace(\"-\",\"_\")\n",
    "# replace \"-\" with\"_\""
   ]
  },
  {
   "cell_type": "code",
   "execution_count": 31,
   "id": "3b14c1d1",
   "metadata": {},
   "outputs": [
    {
     "data": {
      "text/plain": [
       "'       apple        '"
      ]
     },
     "execution_count": 31,
     "metadata": {},
     "output_type": "execute_result"
    }
   ],
   "source": [
    "# 10 .Try  to give a defination of string center function with and exmple \n",
    "# The center() method will center align the string, using a specified character (space is default) as the fill character.\n",
    "s4 = \"apple\"\n",
    "s4.center(20)"
   ]
  },
  {
   "cell_type": "code",
   "execution_count": 32,
   "id": "20d84497",
   "metadata": {},
   "outputs": [],
   "source": [
    "# 11 . Write your own definition of compiler and interpretor without copy paste form internet in your own language\n",
    "\n",
    "# A compiler is a computer proram that reads a program written in High-level languaue(Human readable) and converters it to machine code or lower level language\n",
    "# It also repots errors found in the program. The computer further processes the machine code to perform specific tasks.\n",
    "\n",
    "#An interpreter is a computer program, which converts each high-level program statement into the machine code. \n",
    "#This includes source code, pre-compiled code, and scripts. Both compiler and interpreters do the same job which is converting higher level programming language to machine code. \n",
    "#However, a compiler will convert the code into machine code (create an exe) before program run. Interpreters convert code into machine code when the program is run.\n"
   ]
  },
  {
   "cell_type": "code",
   "execution_count": 33,
   "id": "6e54c277",
   "metadata": {},
   "outputs": [],
   "source": [
    "# 12 . Python is a interpreted or compiled language give a clear ans with your understanding \n",
    "\n",
    "# The CPU can only understand machine code indeed. For interpreted programs, the ultimate goal of an interpreter is to \"interpret\" the program code into machine code. \n",
    "# However, usually a modern interpreted language does not interpret human code directly because it is too inefficient.\n",
    "# The Python interpreter first reads the human code and optimizes it to some intermediate code before interpreting it into machine code. \n",
    "#That's why we always need another program to run a Python script, unlike in C++ where you can run the compiled executable of your code directly."
   ]
  },
  {
   "cell_type": "code",
   "execution_count": null,
   "id": "acb16921",
   "metadata": {},
   "outputs": [],
   "source": [
    "# 13 . Try to write a usecase of python with your understanding .\n",
    "\n",
    "# Python is used in various applications like Data Science, AI, Game development, Web development, software development.\n",
    "# Python is so popular because It's simple to learn, It's versatile,It's readable."
   ]
  }
 ],
 "metadata": {
  "kernelspec": {
   "display_name": "Python 3 (ipykernel)",
   "language": "python",
   "name": "python3"
  },
  "language_info": {
   "codemirror_mode": {
    "name": "ipython",
    "version": 3
   },
   "file_extension": ".py",
   "mimetype": "text/x-python",
   "name": "python",
   "nbconvert_exporter": "python",
   "pygments_lexer": "ipython3",
   "version": "3.9.7"
  }
 },
 "nbformat": 4,
 "nbformat_minor": 5
}
